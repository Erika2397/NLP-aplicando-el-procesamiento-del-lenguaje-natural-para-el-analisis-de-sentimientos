{
  "cells": [
    {
      "cell_type": "markdown",
      "metadata": {
        "id": "view-in-github",
        "colab_type": "text"
      },
      "source": [
        "<a href=\"https://colab.research.google.com/github/Erika2397/NLP-aplicando-el-procesamiento-del-lenguaje-natural-para-el-analisis-de-sentimientos/blob/main/notebooks/aula_1/notebook_aula_1.ipynb\" target=\"_parent\"><img src=\"https://colab.research.google.com/assets/colab-badge.svg\" alt=\"Open In Colab\"/></a>"
      ]
    },
    {
      "cell_type": "markdown",
      "metadata": {
        "id": "ORul2o8_QUCi"
      },
      "source": [
        "#**Clase 1: Explorando y vectorizando datos textuales**"
      ]
    },
    {
      "cell_type": "markdown",
      "metadata": {
        "id": "6iUIGTBmQWvC"
      },
      "source": [
        "##**Conociendo los datos**"
      ]
    },
    {
      "cell_type": "code",
      "execution_count": 14,
      "metadata": {
        "id": "QZOcI0Jamq1p"
      },
      "outputs": [],
      "source": []
    },
    {
      "cell_type": "code",
      "source": [],
      "metadata": {
        "id": "2_5GEWcxAmF2"
      },
      "execution_count": 14,
      "outputs": []
    },
    {
      "cell_type": "code",
      "execution_count": 14,
      "metadata": {
        "id": "X55uAnuen9SB"
      },
      "outputs": [],
      "source": []
    },
    {
      "cell_type": "code",
      "execution_count": 14,
      "metadata": {
        "id": "WMM4xjF8oAv5"
      },
      "outputs": [],
      "source": []
    },
    {
      "cell_type": "code",
      "source": [],
      "metadata": {
        "id": "NbUfOlFPd3pI"
      },
      "execution_count": 14,
      "outputs": []
    },
    {
      "cell_type": "code",
      "source": [],
      "metadata": {
        "id": "IpD2-A0cd1iX"
      },
      "execution_count": 14,
      "outputs": []
    },
    {
      "cell_type": "code",
      "execution_count": 14,
      "metadata": {
        "id": "Om8GeHkooQmp"
      },
      "outputs": [],
      "source": []
    },
    {
      "cell_type": "code",
      "execution_count": 14,
      "metadata": {
        "id": "pnjyUJNLoeZB"
      },
      "outputs": [],
      "source": []
    },
    {
      "cell_type": "code",
      "execution_count": 14,
      "metadata": {
        "id": "2fUVL__5o2b4"
      },
      "outputs": [],
      "source": []
    },
    {
      "cell_type": "code",
      "source": [],
      "metadata": {
        "id": "37n2yW0cEzo_"
      },
      "execution_count": 14,
      "outputs": []
    },
    {
      "cell_type": "markdown",
      "metadata": {
        "id": "I0EBhnM3Qb4t"
      },
      "source": [
        "##**Transformando textos en datos numéricos**"
      ]
    },
    {
      "cell_type": "code",
      "execution_count": 14,
      "metadata": {
        "id": "7VG6h0n3pLyp"
      },
      "outputs": [],
      "source": []
    },
    {
      "cell_type": "code",
      "execution_count": 14,
      "metadata": {
        "id": "z6vwD2sdripx"
      },
      "outputs": [],
      "source": []
    },
    {
      "cell_type": "code",
      "execution_count": 14,
      "metadata": {
        "id": "T1_5iqyDrmMI"
      },
      "outputs": [],
      "source": []
    },
    {
      "cell_type": "code",
      "execution_count": 14,
      "metadata": {
        "id": "MHfkCTuRsMjB"
      },
      "outputs": [],
      "source": []
    },
    {
      "cell_type": "code",
      "execution_count": 14,
      "metadata": {
        "id": "hPNZ2HlqsOb4"
      },
      "outputs": [],
      "source": []
    },
    {
      "cell_type": "code",
      "execution_count": 14,
      "metadata": {
        "id": "KNWezQsGtF8Q"
      },
      "outputs": [],
      "source": []
    },
    {
      "cell_type": "code",
      "execution_count": 14,
      "metadata": {
        "id": "k2GPuQwcteXg"
      },
      "outputs": [],
      "source": []
    },
    {
      "cell_type": "markdown",
      "metadata": {
        "id": "lCNybFwkQfUr"
      },
      "source": [
        "##**Clasificando los sentimientos**"
      ]
    },
    {
      "cell_type": "code",
      "execution_count": 14,
      "metadata": {
        "id": "Y4LHuk1jvkiW"
      },
      "outputs": [],
      "source": []
    },
    {
      "cell_type": "code",
      "execution_count": 14,
      "metadata": {
        "id": "VrolfAivwbwQ"
      },
      "outputs": [],
      "source": []
    },
    {
      "cell_type": "markdown",
      "metadata": {
        "id": "b93w2E6jQid2"
      },
      "source": [
        "#**Clase 2: Explorando la frecuencia y el sentimiento de las palabras**"
      ]
    },
    {
      "cell_type": "markdown",
      "metadata": {
        "id": "p6oVfFyHQmcC"
      },
      "source": [
        "##**Visualizando las palabras más frecuentes en las evaluaciones**"
      ]
    },
    {
      "cell_type": "code",
      "execution_count": 14,
      "metadata": {
        "id": "plMkFP5yxICQ"
      },
      "outputs": [],
      "source": []
    },
    {
      "cell_type": "code",
      "execution_count": 14,
      "metadata": {
        "id": "BjeNJ47-E0Kv"
      },
      "outputs": [],
      "source": []
    },
    {
      "cell_type": "code",
      "execution_count": 14,
      "metadata": {
        "collapsed": true,
        "id": "JIVA9-HaFBH_"
      },
      "outputs": [],
      "source": []
    },
    {
      "cell_type": "code",
      "execution_count": 14,
      "metadata": {
        "id": "yX6ElkedFL8_"
      },
      "outputs": [],
      "source": []
    },
    {
      "cell_type": "code",
      "execution_count": 14,
      "metadata": {
        "id": "qlJT1yl4FfTH"
      },
      "outputs": [],
      "source": []
    },
    {
      "cell_type": "code",
      "execution_count": 14,
      "metadata": {
        "id": "PPQbm6mJFg73"
      },
      "outputs": [],
      "source": []
    },
    {
      "cell_type": "code",
      "execution_count": 14,
      "metadata": {
        "id": "XRJyz5EHFyWP"
      },
      "outputs": [],
      "source": []
    },
    {
      "cell_type": "code",
      "execution_count": 14,
      "metadata": {
        "id": "EuU8GgigGGm2"
      },
      "outputs": [],
      "source": []
    },
    {
      "cell_type": "code",
      "execution_count": 14,
      "metadata": {
        "id": "nqTp6OnjHDXO"
      },
      "outputs": [],
      "source": []
    },
    {
      "cell_type": "markdown",
      "metadata": {
        "id": "4-MFQgFQQpCY"
      },
      "source": [
        "##**Analizando palabras por sentimiento**"
      ]
    },
    {
      "cell_type": "code",
      "execution_count": 14,
      "metadata": {
        "id": "pkAN0xs-HU_n"
      },
      "outputs": [],
      "source": []
    },
    {
      "cell_type": "code",
      "execution_count": 14,
      "metadata": {
        "id": "SpKRkqZSJaUe"
      },
      "outputs": [],
      "source": []
    },
    {
      "cell_type": "code",
      "execution_count": 14,
      "metadata": {
        "id": "BTRVr5BoJlG-"
      },
      "outputs": [],
      "source": []
    },
    {
      "cell_type": "markdown",
      "metadata": {
        "id": "4HxI8fErQxUC"
      },
      "source": [
        "##**Dividiendo el texto en unidades menores**"
      ]
    },
    {
      "cell_type": "code",
      "execution_count": 14,
      "metadata": {
        "id": "ylULUIC0OHbO"
      },
      "outputs": [],
      "source": []
    },
    {
      "cell_type": "code",
      "execution_count": 14,
      "metadata": {
        "id": "9feBOCVcOcU-",
        "collapsed": true
      },
      "outputs": [],
      "source": []
    },
    {
      "cell_type": "code",
      "execution_count": 14,
      "metadata": {
        "id": "NB9sxw46OtuW"
      },
      "outputs": [],
      "source": []
    },
    {
      "cell_type": "code",
      "execution_count": 14,
      "metadata": {
        "id": "jnJouXYTO9Gd"
      },
      "outputs": [],
      "source": []
    },
    {
      "cell_type": "markdown",
      "metadata": {
        "id": "lGrfu27JQ0mk"
      },
      "source": [
        "##**Analizando la frecuencia de las palabras**"
      ]
    },
    {
      "cell_type": "code",
      "execution_count": 14,
      "metadata": {
        "id": "34AjZj30PlhV",
        "collapsed": true
      },
      "outputs": [],
      "source": []
    },
    {
      "cell_type": "code",
      "execution_count": 14,
      "metadata": {
        "collapsed": true,
        "id": "jXBJSQtFQWoW"
      },
      "outputs": [],
      "source": []
    },
    {
      "cell_type": "code",
      "execution_count": 14,
      "metadata": {
        "id": "YyrR0LEGQYp9"
      },
      "outputs": [],
      "source": []
    },
    {
      "cell_type": "code",
      "execution_count": 14,
      "metadata": {
        "id": "QwwrsttxQmbN"
      },
      "outputs": [],
      "source": []
    },
    {
      "cell_type": "code",
      "execution_count": 14,
      "metadata": {
        "id": "bE1_Rqv6RPHm"
      },
      "outputs": [],
      "source": []
    },
    {
      "cell_type": "code",
      "execution_count": 14,
      "metadata": {
        "id": "7d6hy95TRRY-"
      },
      "outputs": [],
      "source": []
    },
    {
      "cell_type": "markdown",
      "metadata": {
        "id": "VkT_cBujQ6ie"
      },
      "source": [
        "#**Clase 3: Limpiando y normalizando datos textuales**"
      ]
    },
    {
      "cell_type": "markdown",
      "metadata": {
        "id": "Cmtr_-hjQ9z8"
      },
      "source": [
        "##**Eliminando palabras vacías**"
      ]
    },
    {
      "cell_type": "code",
      "execution_count": 14,
      "metadata": {
        "id": "gSJwEqXRSQtm",
        "collapsed": true
      },
      "outputs": [],
      "source": []
    },
    {
      "cell_type": "code",
      "execution_count": 14,
      "metadata": {
        "collapsed": true,
        "id": "bEz3HDGYXwCF"
      },
      "outputs": [],
      "source": []
    },
    {
      "cell_type": "code",
      "execution_count": 14,
      "metadata": {
        "id": "ftKgMkoPYAS-"
      },
      "outputs": [],
      "source": []
    },
    {
      "cell_type": "code",
      "execution_count": 14,
      "metadata": {
        "id": "PvSsK9QKZNs2"
      },
      "outputs": [],
      "source": []
    },
    {
      "cell_type": "code",
      "execution_count": 14,
      "metadata": {
        "id": "d2pZHV2cZQXF"
      },
      "outputs": [],
      "source": []
    },
    {
      "cell_type": "code",
      "execution_count": 14,
      "metadata": {
        "id": "jPPSt4vZZaBN"
      },
      "outputs": [],
      "source": []
    },
    {
      "cell_type": "code",
      "execution_count": 15,
      "metadata": {
        "id": "GUeCLUENZe_l"
      },
      "outputs": [],
      "source": [
        "def clasificar_texto(texto, columna_texto, columna_clasificacion):\n",
        "    vectorizar = CountVectorizer(lowercase=False, max_features=50)\n",
        "    bag_of_words = vectorizar.fit_transform(texto[columna_texto])\n",
        "    X_train, X_test, y_train, y_test = train_test_split(bag_of_words, texto[columna_clasificacion], random_state=4978)\n",
        "    regresion_logistica = LogisticRegression()\n",
        "    regresion_logistica.fit(X_train, y_train)\n",
        "    precision = regresion_logistica.score(X_test, y_test)\n",
        "    return print(f\"Exactitud del modelo con '{columna_texto}': {precision * 100:.2f}%\")"
      ]
    },
    {
      "cell_type": "code",
      "source": [],
      "metadata": {
        "id": "vFsFIbAE8oxM"
      },
      "execution_count": 15,
      "outputs": []
    },
    {
      "cell_type": "code",
      "execution_count": 16,
      "metadata": {
        "id": "kk8K3ezoaYvN"
      },
      "outputs": [],
      "source": [
        "def grafico_frecuencia(texto, columna_texto, cantidad):\n",
        "    todas_palabras = ' '.join([texto for texto in texto[columna_texto]])\n",
        "    token_espacio = tokenize.WhitespaceTokenizer()\n",
        "    frecuencia = nltk.FreqDist(token_espacio.tokenize(todas_palabras))\n",
        "    df_frecuencia = pd.DataFrame({\"Palabra\": list(frecuencia.keys()),\n",
        "    \"Frecuencia\": list(frecuencia.values())})\n",
        "    df_frecuencia = df_frecuencia.nlargest(columns=\"Frecuencia\", n=cantidad)\n",
        "    plt.figure(figsize=(20,6))\n",
        "    ax = sns.barplot(data=df_frecuencia, x=\"Palabra\", y=\"Frecuencia\", color='gray')\n",
        "    ax.set(ylabel=\"Contaje\")\n",
        "    plt.show()"
      ]
    },
    {
      "cell_type": "code",
      "execution_count": 16,
      "metadata": {
        "id": "1djEIfLSaxGt"
      },
      "outputs": [],
      "source": []
    },
    {
      "cell_type": "markdown",
      "metadata": {
        "id": "AdH_8Ew5RG_2"
      },
      "source": [
        "##**Eliminando puntuaciones**"
      ]
    },
    {
      "cell_type": "code",
      "execution_count": 16,
      "metadata": {
        "id": "aQtRTuWJa2W1"
      },
      "outputs": [],
      "source": []
    },
    {
      "cell_type": "code",
      "execution_count": 16,
      "metadata": {
        "id": "OXyoEkJfcNvF"
      },
      "outputs": [],
      "source": []
    },
    {
      "cell_type": "code",
      "execution_count": 16,
      "metadata": {
        "id": "RUm0rnAIdqnF"
      },
      "outputs": [],
      "source": []
    },
    {
      "cell_type": "code",
      "execution_count": 16,
      "metadata": {
        "id": "Th6S75h7dtl1"
      },
      "outputs": [],
      "source": []
    },
    {
      "cell_type": "code",
      "execution_count": 16,
      "metadata": {
        "id": "NWZJcPBJd3tl"
      },
      "outputs": [],
      "source": []
    },
    {
      "cell_type": "code",
      "execution_count": 16,
      "metadata": {
        "id": "IYixf0nOd93d"
      },
      "outputs": [],
      "source": []
    },
    {
      "cell_type": "markdown",
      "metadata": {
        "id": "xhVTkp4GRK3U"
      },
      "source": [
        "##**Removiendo acentuacion**"
      ]
    },
    {
      "cell_type": "code",
      "execution_count": 17,
      "metadata": {
        "id": "sJuyf5dTf0PX"
      },
      "outputs": [],
      "source": [
        "#! pip install unidecode"
      ]
    },
    {
      "cell_type": "code",
      "execution_count": 17,
      "metadata": {
        "id": "HuGBjvV6f6NV"
      },
      "outputs": [],
      "source": []
    },
    {
      "cell_type": "code",
      "execution_count": 17,
      "metadata": {
        "id": "USRD6G-LgQqF"
      },
      "outputs": [],
      "source": []
    },
    {
      "cell_type": "code",
      "execution_count": 17,
      "metadata": {
        "id": "o_j_V3BggiYd"
      },
      "outputs": [],
      "source": []
    },
    {
      "cell_type": "code",
      "execution_count": 17,
      "metadata": {
        "id": "FalQMytzgvLl"
      },
      "outputs": [],
      "source": []
    },
    {
      "cell_type": "code",
      "execution_count": 17,
      "metadata": {
        "id": "vao8DapGhdrN"
      },
      "outputs": [],
      "source": []
    },
    {
      "cell_type": "code",
      "execution_count": 17,
      "metadata": {
        "id": "gdLub-bxhfNF"
      },
      "outputs": [],
      "source": []
    },
    {
      "cell_type": "code",
      "execution_count": 17,
      "metadata": {
        "id": "Ot1lK12ChkkV"
      },
      "outputs": [],
      "source": []
    },
    {
      "cell_type": "code",
      "execution_count": 17,
      "metadata": {
        "id": "8l6rwa9ihtsN"
      },
      "outputs": [],
      "source": []
    },
    {
      "cell_type": "markdown",
      "metadata": {
        "id": "08leUhxoRQEe"
      },
      "source": [
        "##**Uniformizando el texto**"
      ]
    },
    {
      "cell_type": "code",
      "execution_count": 17,
      "metadata": {
        "id": "2xImq7YKh3gt"
      },
      "outputs": [],
      "source": []
    },
    {
      "cell_type": "code",
      "execution_count": 17,
      "metadata": {
        "id": "8ChlMPSxi78F"
      },
      "outputs": [],
      "source": []
    },
    {
      "cell_type": "code",
      "execution_count": 17,
      "metadata": {
        "id": "46APvcd-j939"
      },
      "outputs": [],
      "source": []
    },
    {
      "cell_type": "code",
      "execution_count": 17,
      "metadata": {
        "id": "As0gNEF2j_hk"
      },
      "outputs": [],
      "source": []
    },
    {
      "cell_type": "code",
      "execution_count": 17,
      "metadata": {
        "id": "_o8QHy73kFal"
      },
      "outputs": [],
      "source": []
    },
    {
      "cell_type": "code",
      "execution_count": 17,
      "metadata": {
        "id": "5cbbOiQmkaz6"
      },
      "outputs": [],
      "source": []
    },
    {
      "cell_type": "code",
      "source": [],
      "metadata": {
        "id": "pteVFx4iNPvo"
      },
      "execution_count": 17,
      "outputs": []
    },
    {
      "cell_type": "code",
      "execution_count": 17,
      "metadata": {
        "id": "xVj_-YhukJ0V"
      },
      "outputs": [],
      "source": []
    },
    {
      "cell_type": "markdown",
      "metadata": {
        "id": "aoEBKRXRFEmN"
      },
      "source": [
        "#**Clase 4: Utilizando otras técnicas de procesamiento de texto**"
      ]
    },
    {
      "cell_type": "markdown",
      "metadata": {
        "id": "BdQrSXXZFIZe"
      },
      "source": [
        "##**Simplificando las palabras**"
      ]
    },
    {
      "cell_type": "code",
      "execution_count": 17,
      "metadata": {
        "id": "X1XDNT9L1NdV"
      },
      "outputs": [],
      "source": []
    },
    {
      "cell_type": "code",
      "execution_count": 17,
      "metadata": {
        "id": "Plx0oNLG25HQ"
      },
      "outputs": [],
      "source": []
    },
    {
      "cell_type": "code",
      "execution_count": 17,
      "metadata": {
        "id": "KLTes2XG2-4Q"
      },
      "outputs": [],
      "source": []
    },
    {
      "cell_type": "code",
      "execution_count": 17,
      "metadata": {
        "id": "Svz4o37R3CdP"
      },
      "outputs": [],
      "source": []
    },
    {
      "cell_type": "code",
      "execution_count": 17,
      "metadata": {
        "id": "DycnsXtZ37T8"
      },
      "outputs": [],
      "source": []
    },
    {
      "cell_type": "code",
      "execution_count": 17,
      "metadata": {
        "id": "EyMhrIiU4Cta"
      },
      "outputs": [],
      "source": []
    },
    {
      "cell_type": "code",
      "execution_count": 17,
      "metadata": {
        "id": "CgchAWCN4JxS"
      },
      "outputs": [],
      "source": []
    },
    {
      "cell_type": "markdown",
      "metadata": {
        "id": "JWb5BDtMFLP5"
      },
      "source": [
        "##**Determinando la importancia de las palabras**"
      ]
    },
    {
      "cell_type": "code",
      "execution_count": 17,
      "metadata": {
        "id": "NNb1BXvzAQdV"
      },
      "outputs": [],
      "source": []
    },
    {
      "cell_type": "code",
      "execution_count": 17,
      "metadata": {
        "id": "APz1oomxbTkw"
      },
      "outputs": [],
      "source": []
    },
    {
      "cell_type": "code",
      "source": [],
      "metadata": {
        "id": "XC29rxMEWbyl"
      },
      "execution_count": 17,
      "outputs": []
    },
    {
      "cell_type": "code",
      "execution_count": 17,
      "metadata": {
        "id": "8sGnsyrQcWjU"
      },
      "outputs": [],
      "source": []
    },
    {
      "cell_type": "markdown",
      "metadata": {
        "id": "_9ASFn5zFN6H"
      },
      "source": [
        "##**Capturando contextos**"
      ]
    },
    {
      "cell_type": "code",
      "execution_count": 17,
      "metadata": {
        "id": "LWITVN_qhij7"
      },
      "outputs": [],
      "source": []
    },
    {
      "cell_type": "code",
      "execution_count": 17,
      "metadata": {
        "id": "7yQR7zwbjuPT"
      },
      "outputs": [],
      "source": []
    },
    {
      "cell_type": "code",
      "source": [],
      "metadata": {
        "id": "DJaRbadcZpz7"
      },
      "execution_count": 17,
      "outputs": []
    },
    {
      "cell_type": "markdown",
      "metadata": {
        "id": "ryxsXnp1FSXy"
      },
      "source": [
        "##**Explorando la cantidad de características en la vectorización**"
      ]
    },
    {
      "cell_type": "code",
      "execution_count": 17,
      "metadata": {
        "id": "q-RjQkurl78T"
      },
      "outputs": [],
      "source": []
    },
    {
      "cell_type": "code",
      "execution_count": 17,
      "metadata": {
        "id": "rrHGj9g9mYmD"
      },
      "outputs": [],
      "source": []
    },
    {
      "cell_type": "code",
      "execution_count": 18,
      "metadata": {
        "id": "enfVgG_PmmTS"
      },
      "outputs": [],
      "source": [
        "# tfidf = TfidfVectorizer(lowercase=False, ngram_range=(1,2))\n",
        "# vector_tfidf = tfidf.fit_transform(df['tratamiento_5'])\n",
        "# x_train, x_test, y_train, y_test = train_test_split(vector_tfidf, df['sentimiento'], random_state=4978)\n",
        "# regresion_logistica.fit(X_train, y_train)\n",
        "# acuracia_tfidf_ngrams = regresion_logistica.score(X_test, y_test)\n",
        "# print(f'Acurácia del modelo con todas las features y ngrams: {acuracia_tfidf_ngrams * 100:.2f}%')"
      ]
    },
    {
      "cell_type": "code",
      "execution_count": 18,
      "metadata": {
        "id": "YXUNA1zam0Iq"
      },
      "outputs": [],
      "source": []
    },
    {
      "cell_type": "markdown",
      "metadata": {
        "id": "THf2BgMKFtc5"
      },
      "source": [
        "⚠️ Ejecutar nuevamente el código de `tfidf_1000` antes de ejecutar la celda siguiente:"
      ]
    },
    {
      "cell_type": "code",
      "execution_count": 18,
      "metadata": {
        "id": "JoIpKPmpm-cp"
      },
      "outputs": [],
      "source": []
    },
    {
      "cell_type": "code",
      "execution_count": 18,
      "metadata": {
        "id": "PPU5pIn4n7Eh"
      },
      "outputs": [],
      "source": []
    },
    {
      "cell_type": "code",
      "execution_count": 18,
      "metadata": {
        "id": "VTZMY_-UoDNy"
      },
      "outputs": [],
      "source": []
    },
    {
      "cell_type": "markdown",
      "metadata": {
        "id": "4bz6uuGeGguS"
      },
      "source": [
        "#**Clase 5: Probando el modelo de clasificación**"
      ]
    },
    {
      "cell_type": "markdown",
      "metadata": {
        "id": "v1IvYI5GGlye"
      },
      "source": [
        "##**Guardando y cargando el modelo**"
      ]
    },
    {
      "cell_type": "code",
      "execution_count": 18,
      "metadata": {
        "id": "UhEtZEskqd4u"
      },
      "outputs": [],
      "source": []
    },
    {
      "cell_type": "code",
      "execution_count": 18,
      "metadata": {
        "id": "zc_BHu5yrRB6"
      },
      "outputs": [],
      "source": []
    },
    {
      "cell_type": "markdown",
      "metadata": {
        "id": "ICGz32b6GpEi"
      },
      "source": [
        "##**Creando una función para procesar nuevos datos**"
      ]
    },
    {
      "cell_type": "code",
      "execution_count": 18,
      "metadata": {
        "id": "Qp8l5ZkSrzei"
      },
      "outputs": [],
      "source": []
    },
    {
      "cell_type": "markdown",
      "metadata": {
        "id": "4BcfwJZeGpPN"
      },
      "source": [
        "##**Clasificando nuevas evaluaciones**"
      ]
    },
    {
      "cell_type": "code",
      "execution_count": 19,
      "metadata": {
        "id": "E7rqXzZxv-Sx"
      },
      "outputs": [],
      "source": [
        "# nuevas_evaluaciones_para_predecir\n",
        "nuevas_evaluaciones = [\n",
        "                 \"¡La entrega se retrasó mucho! Estoy decepcionado con la compra\",\n",
        "                 \"¡Horrible! El producto llegó dañado y ahora estoy tratando de hacer la devolución.\",\n",
        "                '''rastreando el paquete encontré que no lo recibiría pues en la fecha prevista estaba siendo entregado en otra ciudad.\n",
        "                  mas al final, todo salió bien y recibí el producto. Producto de excelente calidad, satisfaciendo mis necesidades y por\n",
        "                  un precio súper económico. ¡Lo recomiendo!''']"
      ]
    },
    {
      "cell_type": "code",
      "execution_count": 19,
      "metadata": {
        "id": "e4RmpBufwrWu"
      },
      "outputs": [],
      "source": []
    },
    {
      "cell_type": "code",
      "execution_count": 19,
      "metadata": {
        "id": "jXkhprJuxpUJ"
      },
      "outputs": [],
      "source": []
    },
    {
      "cell_type": "code",
      "execution_count": 19,
      "metadata": {
        "id": "iEkyXoKQxv5Z"
      },
      "outputs": [],
      "source": []
    },
    {
      "cell_type": "code",
      "source": [],
      "metadata": {
        "id": "rZSkY6CFhzu4"
      },
      "execution_count": 19,
      "outputs": []
    }
  ],
  "metadata": {
    "colab": {
      "provenance": [],
      "include_colab_link": true
    },
    "kernelspec": {
      "display_name": "Python 3",
      "name": "python3"
    },
    "language_info": {
      "name": "python"
    }
  },
  "nbformat": 4,
  "nbformat_minor": 0
}